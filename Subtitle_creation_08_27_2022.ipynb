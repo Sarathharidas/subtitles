{
 "cells": [
  {
   "cell_type": "code",
   "execution_count": 1,
   "id": "029a09fa",
   "metadata": {
    "pycharm": {
     "name": "#%%\n"
    }
   },
   "outputs": [],
   "source": [
    "##### Video to Audio Extrtaction \n",
    "### Audio to speech recogntion in native language \n",
    "#### Translation from native language to English "
   ]
  },
  {
   "cell_type": "code",
   "execution_count": 2,
   "id": "a02227e2",
   "metadata": {
    "pycharm": {
     "name": "#%%\n"
    }
   },
   "outputs": [],
   "source": [
    "#### Logic \n",
    "#1. Splitting Audio into chunks  \n",
    "#2. Speech to Text \n",
    "#3. Text to translation "
   ]
  },
  {
   "cell_type": "code",
   "execution_count": 3,
   "id": "d8dcf1a5",
   "metadata": {
    "pycharm": {
     "name": "#%%\n"
    }
   },
   "outputs": [],
   "source": [
    "import speech_recognition as sr\n",
    "import librosa\n",
    "r = sr.Recognizer()\n",
    "from googletrans import Translator\n",
    "translator = Translator()\n",
    "import datetime\n",
    "from __future__ import unicode_literals\n",
    "import youtube_dl\n",
    "import glob\n",
    "import os"
   ]
  },
  {
   "cell_type": "code",
   "execution_count": null,
   "id": "3dd897cc",
   "metadata": {
    "pycharm": {
     "name": "#%%\n"
    }
   },
   "outputs": [],
   "source": [
    "directory = os.getcwd()\n",
    "print(directory)"
   ]
  },
  {
   "cell_type": "code",
   "execution_count": null,
   "id": "f94863f3",
   "metadata": {
    "pycharm": {
     "name": "#%%\n"
    }
   },
   "outputs": [],
   "source": [
    "##### Loading the video #############\n",
    "\n",
    "### Here I first download the video to local and then upload it. \n",
    "###Not sure if there is way to directly load it without downloading  "
   ]
  },
  {
   "cell_type": "code",
   "execution_count": null,
   "id": "b2d40fbe",
   "metadata": {
    "pycharm": {
     "name": "#%%\n"
    }
   },
   "outputs": [],
   "source": [
    "### download youtube video to local and \n",
    "ydl_opts = {\n",
    "    'format': 'bestaudio/best',\n",
    "    'postprocessors': [{\n",
    "        'key': 'FFmpegExtractAudio',\n",
    "        'preferredcodec': 'wav',\n",
    "        'preferredquality': '192'\n",
    "    }],\n",
    "    'postprocessor_args': [\n",
    "        '-ar', '16000'\n",
    "    ],\n",
    "    'prefer_ffmpeg': True,\n",
    "    'keepvideo': False\n",
    "}\n",
    "\n",
    "with youtube_dl.YoutubeDL(ydl_opts) as ydl:\n",
    "    ydl.download(['https://www.youtube.com/watch?v=ILo_q8IzEgY&t=144s'])"
   ]
  },
  {
   "cell_type": "code",
   "execution_count": null,
   "id": "55a6d89f",
   "metadata": {
    "pycharm": {
     "name": "#%%\n"
    }
   },
   "outputs": [],
   "source": [
    "### getting the latest file\n",
    "list_of_files = glob.glob('{}/*'.format(directory)) # * means all if need specific format then *.csv\n",
    "latest_file = max(list_of_files, key=os.path.getctime)\n",
    "print(latest_file)"
   ]
  },
  {
   "cell_type": "code",
   "execution_count": null,
   "id": "9ae3c6f5",
   "metadata": {
    "pycharm": {
     "name": "#%%\n"
    }
   },
   "outputs": [],
   "source": [
    "### Dividing into chunks #######\n",
    "\n",
    "len_audio = librosa.get_duration(filename=latest_file)\n",
    "print(\"Total length of audio is:{} secs\".format(len_audio))\n",
    "chunks = int(len_audio/3)+1\n",
    "print(\"Number of 3 sec chunks is {}\".format(chunks))"
   ]
  },
  {
   "cell_type": "code",
   "execution_count": null,
   "id": "4f331d5f",
   "metadata": {
    "pycharm": {
     "name": "#%%\n"
    }
   },
   "outputs": [],
   "source": [
    "dic_translation = {}\n",
    "count = 1 \n",
    "while (count<chunks):\n",
    "    ## load data to memory\n",
    "    with sr.AudioFile(latest_file) as source:\n",
    "        print(count)\n",
    "        audio_data = r.record(source, offset = (count-1)*3, duration=3)\n",
    "    # recognize (convert from speech to text)\n",
    "        try:\n",
    "            ## speech recognize\n",
    "            text = r.recognize_google(audio_data, language=\"ml-IN\")\n",
    "            print(text)\n",
    "            ### translate using google translate\n",
    "            print(translator.translate(text).text)\n",
    "            dic_translation[count] = translator.translate(text).text\n",
    "        except:\n",
    "            dic_translation[count]= ''\n",
    "        count = count+1\n",
    "        \n",
    "# with sr.AudioFile('soch_news_media.wav') as source:\n",
    "#     audio_data = r.record(source, offset = 0*3, duration=3)\n",
    "#     text = r.recognize_google(audio_data, language=\"hi-IN\")\n",
    "#     print(translator.translate(text).text)"
   ]
  },
  {
   "cell_type": "code",
   "execution_count": null,
   "id": "4640bdd7",
   "metadata": {
    "pycharm": {
     "name": "#%%\n"
    }
   },
   "outputs": [],
   "source": [
    "#### Writing the subtite with time stamps"
   ]
  },
  {
   "cell_type": "code",
   "execution_count": null,
   "id": "d8c47c9d",
   "metadata": {
    "pycharm": {
     "name": "#%%\n"
    }
   },
   "outputs": [],
   "source": [
    "\n",
    "count = 0\n",
    "\n",
    "start_time = datetime.timedelta(seconds=0)\n",
    "\n",
    "f = open('{}_subtitle'.format(latest_file), 'w')\n",
    "\n",
    "while(count<=chunks):\n",
    "    print(count)\n",
    "    \n",
    "    f.write((str(count)))\n",
    "    print('\\n')\n",
    "    f.write('\\n')\n",
    "    print(str(start_time))\n",
    "    f.write(str(start_time))\n",
    "    print(',0')\n",
    "    f.write(',0')\n",
    "    print(' --> ')\n",
    "    f.write(' --> ')\n",
    "    print(str(start_time + datetime.timedelta(seconds=10)))\n",
    "    f.write(str(start_time + datetime.timedelta(seconds=10)))\n",
    "    print(',0')\n",
    "    f.write(',0')\n",
    "    print('\\n')\n",
    "    f.write('\\n')\n",
    "    try:\n",
    "        f.write(dic_translation[count])\n",
    "        print(dic_translation[count])\n",
    "    except:\n",
    "        f.write('')\n",
    "        print('')\n",
    "    f.write('\\n')\n",
    "    f.write('\\n')\n",
    "    print('\\n')\n",
    "    print('\\n')\n",
    "    count = count + 1\n",
    "    start_time = start_time + datetime.timedelta(seconds=10)\n",
    "f.close()"
   ]
  },
  {
   "cell_type": "code",
   "execution_count": null,
   "id": "7077350c",
   "metadata": {
    "pycharm": {
     "name": "#%%\n"
    }
   },
   "outputs": [],
   "source": []
  }
 ],
 "metadata": {
  "kernelspec": {
   "display_name": "Python 3 (ipykernel)",
   "language": "python",
   "name": "python3"
  },
  "language_info": {
   "codemirror_mode": {
    "name": "ipython",
    "version": 3
   },
   "file_extension": ".py",
   "mimetype": "text/x-python",
   "name": "python",
   "nbconvert_exporter": "python",
   "pygments_lexer": "ipython3",
   "version": "3.9.12"
  }
 },
 "nbformat": 4,
 "nbformat_minor": 5
}